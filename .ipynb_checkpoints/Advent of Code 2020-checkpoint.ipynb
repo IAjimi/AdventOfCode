{
 "cells": [
  {
   "cell_type": "markdown",
   "metadata": {},
   "source": [
    "### Problem 1"
   ]
  },
  {
   "cell_type": "code",
   "execution_count": 13,
   "metadata": {},
   "outputs": [],
   "source": [
    "_input = open(\"aoc_1.txt\").read().splitlines()\n",
    "_input = [int(i) for i in _input]"
   ]
  },
  {
   "cell_type": "code",
   "execution_count": 14,
   "metadata": {},
   "outputs": [
    {
     "name": "stdout",
     "output_type": "stream",
     "text": [
      "898299\n"
     ]
    }
   ],
   "source": [
    "solution = [i for i in _input if 2020 - i in _input]\n",
    "print(solution[0] * solution[1])"
   ]
  },
  {
   "cell_type": "code",
   "execution_count": 15,
   "metadata": {},
   "outputs": [
    {
     "name": "stdout",
     "output_type": "stream",
     "text": [
      "898299\n"
     ]
    }
   ],
   "source": [
    "matching_input = [2020 - i for i in _input]\n",
    "_input, matching_input = set(_input), set(matching_input)\n",
    "solution = list(_input.intersection(matching_input))\n",
    "print(solution[0] * solution[1])"
   ]
  },
  {
   "cell_type": "code",
   "execution_count": null,
   "metadata": {
    "collapsed": true
   },
   "outputs": [],
   "source": [
    "# product of 3 entires"
   ]
  },
  {
   "cell_type": "code",
   "execution_count": 46,
   "metadata": {},
   "outputs": [],
   "source": [
    "import itertools"
   ]
  },
  {
   "cell_type": "code",
   "execution_count": 59,
   "metadata": {},
   "outputs": [
    {
     "name": "stdout",
     "output_type": "stream",
     "text": [
      "143933922\n"
     ]
    }
   ],
   "source": [
    "all_combinations = list(itertools.combinations(_input, 3))\n",
    "solution = [(i[0], i[1], i[2]) for i in all_combinations if i[0] + i[1] + i[2] == 2020][0]\n",
    "print(solution[0] * solution[1] * solution[2])"
   ]
  },
  {
   "cell_type": "code",
   "execution_count": 60,
   "metadata": {},
   "outputs": [
    {
     "name": "stdout",
     "output_type": "stream",
     "text": [
      "143933922\n",
      "143933922\n",
      "143933922\n",
      "143933922\n",
      "143933922\n",
      "143933922\n"
     ]
    }
   ],
   "source": [
    "for i in _input:\n",
    "    for j in _input:\n",
    "        for k in _input:\n",
    "            if i + j + k == 2020:\n",
    "                print(i * j * k)\n",
    "                break"
   ]
  },
  {
   "cell_type": "markdown",
   "metadata": {},
   "source": [
    "### Problem 2"
   ]
  },
  {
   "cell_type": "code",
   "execution_count": 62,
   "metadata": {
    "collapsed": true
   },
   "outputs": [],
   "source": [
    "_input = ['8-9 n: nnnnnnnnn',\n",
    "'14-15 d: dzjgbdwdkdhdddh',\n",
    "'16-17 m: mmmmmmmmmxmmmmwmm',\n",
    "'7-17 d: pmgdhpqbqdhshgtjt']"
   ]
  },
  {
   "cell_type": "code",
   "execution_count": 82,
   "metadata": {
    "collapsed": true
   },
   "outputs": [],
   "source": [
    "_input = ['1-3 a: abcde',\n",
    "'1-3 b: cdefg',\n",
    "'2-9 c: ccccccccc']"
   ]
  },
  {
   "cell_type": "code",
   "execution_count": 83,
   "metadata": {
    "collapsed": true
   },
   "outputs": [],
   "source": [
    "def password_validity_check(string):\n",
    "    rules = string.split(': ')[0]\n",
    "    password = string.split(': ')[1]\n",
    "    \n",
    "    letter = rules.split(' ')[1]\n",
    "    _min = rules.split(' ')[0].split('-')[0]\n",
    "    _max = rules.split(' ')[0].split('-')[1]\n",
    "    _min, _max = int(_min), int(_max)\n",
    "    \n",
    "    if (password.count(letter) >= _min) and (password.count(letter) <= _max):\n",
    "        return 1\n",
    "    else:\n",
    "        return 0"
   ]
  },
  {
   "cell_type": "code",
   "execution_count": 85,
   "metadata": {},
   "outputs": [
    {
     "data": {
      "text/plain": [
       "538"
      ]
     },
     "execution_count": 85,
     "metadata": {},
     "output_type": "execute_result"
    }
   ],
   "source": [
    "_input = open(\"aoc_2.txt\").read().splitlines()\n",
    "sum(list(map(password_validity_check, _input)))"
   ]
  },
  {
   "cell_type": "code",
   "execution_count": 100,
   "metadata": {},
   "outputs": [],
   "source": [
    "_input = ['1-3 a: abcde',\n",
    "'1-3 b: cdefg',\n",
    "'2-9 c: ccccccccc']"
   ]
  },
  {
   "cell_type": "code",
   "execution_count": 101,
   "metadata": {
    "collapsed": true
   },
   "outputs": [],
   "source": [
    "def new_password_validity_check(string):\n",
    "    rules = string.split(': ')[0]\n",
    "    password = string.split(': ')[1]\n",
    "    \n",
    "    letter = rules.split(' ')[1]\n",
    "    _min = rules.split(' ')[0].split('-')[0]\n",
    "    _max = rules.split(' ')[0].split('-')[1]\n",
    "    _min, _max = int(_min) - 1, int(_max) - 1\n",
    "    \n",
    "    if (password[_min] == letter) and (password[_max] == letter):\n",
    "        return 0\n",
    "    elif (password[_min] != letter) and (password[_max] != letter):\n",
    "        return 0\n",
    "    else:\n",
    "        return 1"
   ]
  },
  {
   "cell_type": "code",
   "execution_count": 103,
   "metadata": {},
   "outputs": [
    {
     "data": {
      "text/plain": [
       "489"
      ]
     },
     "execution_count": 103,
     "metadata": {},
     "output_type": "execute_result"
    }
   ],
   "source": [
    "_input = open(\"aoc_2.txt\").read().splitlines()\n",
    "sum(list(map(new_password_validity_check, _input)))"
   ]
  },
  {
   "cell_type": "markdown",
   "metadata": {},
   "source": [
    "### Problem 3"
   ]
  },
  {
   "cell_type": "code",
   "execution_count": 247,
   "metadata": {
    "collapsed": true
   },
   "outputs": [],
   "source": [
    "_input = open(\"aoc_3.txt\").read().splitlines()"
   ]
  },
  {
   "cell_type": "code",
   "execution_count": 245,
   "metadata": {},
   "outputs": [],
   "source": [
    "_input = ['..##.......',\n",
    "'#...#...#..',\n",
    "'.#....#..#.',\n",
    "'..#.#...#.#',\n",
    "'.#...##..#.',\n",
    "'..#.##.....',\n",
    "'.#.#.#....#',\n",
    "'.#........#',\n",
    "'#.##...#...',\n",
    "'#...##....#',\n",
    "'.#..#...#.#']"
   ]
  },
  {
   "cell_type": "code",
   "execution_count": 218,
   "metadata": {},
   "outputs": [
    {
     "data": {
      "text/plain": [
       "7"
      ]
     },
     "execution_count": 218,
     "metadata": {},
     "output_type": "execute_result"
    }
   ],
   "source": [
    "collisions = [e[(i*3) % len(_input[i])] for i,e in enumerate(_input) if i >= 1]\n",
    "collisions = [1 if i == '#' else 0 for i in collisions]\n",
    "sum(collisions) # 261 is too low"
   ]
  },
  {
   "cell_type": "code",
   "execution_count": 266,
   "metadata": {
    "collapsed": true
   },
   "outputs": [],
   "source": [
    "def slope_collision_count(_input, x, y):\n",
    "    ''' where x is rightward movement, y is downward movement'''\n",
    "    collisions = [e[(i*x) % len(_input[i])] for i,e in enumerate(_input) if i >= 1 and i // y != 0]\n",
    "    collisions = [1 if i == '#' else 0 for i in collisions]\n",
    "    return sum(collisions)"
   ]
  },
  {
   "cell_type": "code",
   "execution_count": 268,
   "metadata": {
    "collapsed": true
   },
   "outputs": [],
   "source": [
    "def slope_collision_count(_input, x, y):\n",
    "    ''' where x is rightward movement, y is downward movement'''\n",
    "    collisions = [e[int( (i*x/y) % len(_input[i]) )] for i,e in enumerate(_input) if i >= 1 and i % y == 0]\n",
    "    collisions = [1 if i == '#' else 0 for i in collisions]\n",
    "    return sum(collisions)"
   ]
  },
  {
   "cell_type": "code",
   "execution_count": 269,
   "metadata": {},
   "outputs": [
    {
     "name": "stdout",
     "output_type": "stream",
     "text": [
      "80\n",
      "270\n",
      "60\n",
      "63\n",
      "26\n"
     ]
    },
    {
     "data": {
      "text/plain": [
       "2122848000"
      ]
     },
     "execution_count": 269,
     "metadata": {},
     "output_type": "execute_result"
    }
   ],
   "source": [
    "solution = 1\n",
    "slope_combinations = [(1,1), (3,1), (5,1), (7,1), (1,2)]\n",
    "\n",
    "for x,y in slope_combinations:\n",
    "    collisions = slope_collision_count(_input, x, y)\n",
    "    print(collisions)\n",
    "    solution = solution * collisions\n",
    "    \n",
    "solution ## too high"
   ]
  },
  {
   "cell_type": "markdown",
   "metadata": {},
   "source": [
    "## Day 4"
   ]
  },
  {
   "cell_type": "code",
   "execution_count": 413,
   "metadata": {
    "collapsed": true
   },
   "outputs": [],
   "source": [
    "_input = open(\"aoc_4.txt\").read()"
   ]
  },
  {
   "cell_type": "code",
   "execution_count": 414,
   "metadata": {},
   "outputs": [],
   "source": [
    "_input = [i.replace('\\n', ' ') for i in _input.split('\\n\\n')]"
   ]
  },
  {
   "cell_type": "code",
   "execution_count": 415,
   "metadata": {},
   "outputs": [],
   "source": [
    "def check_passport(passport):\n",
    "    passport_fields = ['byr', 'iyr', 'eyr', 'hgt', 'hcl', 'ecl', 'pid']\n",
    "    validity_check = [1 if field in passport else 0 for field in passport_fields]\n",
    "    \n",
    "    if sum(validity_check) == 7:\n",
    "        return 1\n",
    "    else:\n",
    "        return 0"
   ]
  },
  {
   "cell_type": "code",
   "execution_count": 416,
   "metadata": {},
   "outputs": [
    {
     "data": {
      "text/plain": [
       "213"
      ]
     },
     "execution_count": 416,
     "metadata": {},
     "output_type": "execute_result"
    }
   ],
   "source": [
    "sum(list(map(check_passport, _input)))"
   ]
  },
  {
   "cell_type": "code",
   "execution_count": 303,
   "metadata": {
    "collapsed": true
   },
   "outputs": [],
   "source": [
    "## part 2"
   ]
  },
  {
   "cell_type": "code",
   "execution_count": 417,
   "metadata": {},
   "outputs": [],
   "source": [
    "valid_passports = list(map(check_passport, _input))"
   ]
  },
  {
   "cell_type": "code",
   "execution_count": 418,
   "metadata": {},
   "outputs": [],
   "source": [
    "valid_passports = [i for i,e in enumerate(valid_passports) if e == 1]"
   ]
  },
  {
   "cell_type": "code",
   "execution_count": 419,
   "metadata": {},
   "outputs": [],
   "source": [
    "from operator import itemgetter\n",
    "remaining_passports = list(itemgetter(*valid_passports)(_input))"
   ]
  },
  {
   "cell_type": "code",
   "execution_count": 400,
   "metadata": {},
   "outputs": [],
   "source": [
    "test = '''eyr:1972 cid:100\n",
    "hcl:#18171d ecl:amb hgt:170 pid:186cm iyr:2018 byr:1926\n",
    "\n",
    "iyr:2019\n",
    "hcl:#602927 eyr:1967 hgt:170cm\n",
    "ecl:grn pid:012533040 byr:1946\n",
    "\n",
    "hcl:dab227 iyr:2012\n",
    "ecl:brn hgt:182cm pid:021572410 eyr:2020 byr:1992 cid:277\n",
    "\n",
    "hgt:59cm ecl:zzz\n",
    "eyr:2038 hcl:74454a iyr:2023\n",
    "pid:3556412378 byr:2007'''"
   ]
  },
  {
   "cell_type": "code",
   "execution_count": 403,
   "metadata": {},
   "outputs": [],
   "source": [
    "test = '''pid:087499704 hgt:74in ecl:grn iyr:2012 eyr:2030 byr:1980\n",
    "hcl:#623a2f\n",
    "\n",
    "eyr:2029 ecl:blu cid:129 byr:1989\n",
    "iyr:2014 pid:896056539 hcl:#a97842 hgt:165cm\n",
    "\n",
    "hcl:#888785\n",
    "hgt:164cm byr:2001 iyr:2015 cid:88\n",
    "pid:545766238 ecl:hzl\n",
    "eyr:2022\n",
    "\n",
    "iyr:2010 hgt:158cm hcl:#b6652a ecl:blu byr:1944 eyr:2021 pid:093154719'''"
   ]
  },
  {
   "cell_type": "code",
   "execution_count": 404,
   "metadata": {},
   "outputs": [],
   "source": [
    "test = [i.replace('\\n', ' ') for i in test.split('\\n\\n')]"
   ]
  },
  {
   "cell_type": "code",
   "execution_count": 405,
   "metadata": {},
   "outputs": [
    {
     "data": {
      "text/plain": [
       "[7, 7, 7, 7]"
      ]
     },
     "execution_count": 405,
     "metadata": {},
     "output_type": "execute_result"
    }
   ],
   "source": [
    "[check_passport_values(p) for p in test]"
   ]
  },
  {
   "cell_type": "code",
   "execution_count": 420,
   "metadata": {},
   "outputs": [],
   "source": [
    "def check_passport_values(passport):\n",
    "    processed_passport = passport.split(' ')\n",
    "    score = 0\n",
    "\n",
    "    for field_entry in processed_passport:\n",
    "        field = field_entry.split(':')[0]\n",
    "        val = field_entry.split(':')[1]\n",
    "        numbers = sum(c.isdigit() for c in val)\n",
    "\n",
    "        if field == 'byr':\n",
    "            if numbers == 4 and int(val) >= 1920 and int(val) <= 2002:\n",
    "                score += 1\n",
    "            else:\n",
    "                return 0\n",
    "\n",
    "        if field == 'iyr':\n",
    "            if numbers == 4 and int(val) >= 2010 and int(val) <= 2020:\n",
    "                score += 1\n",
    "            else:\n",
    "                return 0\n",
    "\n",
    "        if field == 'eyr':\n",
    "            if numbers == 4 and int(val) >= 2020 and int(val) <= 2030:\n",
    "                score += 1\n",
    "            else:\n",
    "                return 0\n",
    "\n",
    "        if field == 'hgt':\n",
    "            measure = val[-2:]\n",
    "            height = val[:-2]\n",
    "\n",
    "            if measure == 'cm' and int(height) >= 150 and int(height) <= 193:\n",
    "                score += 1\n",
    "            elif measure == 'in' and int(height) >= 59 and int(height) <= 76:\n",
    "                score += 1\n",
    "            else:\n",
    "                return 0\n",
    "\n",
    "        if field == 'hcl':\n",
    "            if val[0] != '#':\n",
    "                return 0\n",
    "            else:\n",
    "                valid_characters = ['0', '1', '2', '3', '4', '5', '6', '7', '8', '9', 'a', 'b', 'c', 'd', 'e', 'f']\n",
    "                valid_character_count = [1 if l in valid_characters else 0 for l in val]\n",
    "\n",
    "                if sum(valid_character_count) == 6:\n",
    "                    score += 1\n",
    "                else:\n",
    "                    return 0\n",
    "\n",
    "        if field == 'ecl':\n",
    "            correct_values = ['amb', 'blu', 'brn', 'gry', 'grn', 'hzl', 'oth']\n",
    "\n",
    "            if val in correct_values:\n",
    "                score += 1\n",
    "            else:\n",
    "                return 0\n",
    "\n",
    "        if field == 'pid':\n",
    "            if numbers == 9:\n",
    "                score += 1\n",
    "            else:\n",
    "                return 0\n",
    "\n",
    "    return score"
   ]
  },
  {
   "cell_type": "code",
   "execution_count": 424,
   "metadata": {},
   "outputs": [
    {
     "data": {
      "text/plain": [
       "147"
      ]
     },
     "execution_count": 424,
     "metadata": {},
     "output_type": "execute_result"
    }
   ],
   "source": [
    "valid_passports = [1 if check_passport_values(p) == 7 else 0 for p in _input]\n",
    "sum(valid_passports)"
   ]
  },
  {
   "cell_type": "markdown",
   "metadata": {},
   "source": [
    "## Day 5"
   ]
  },
  {
   "cell_type": "code",
   "execution_count": 427,
   "metadata": {
    "collapsed": true
   },
   "outputs": [],
   "source": [
    "import numpy as np"
   ]
  },
  {
   "cell_type": "code",
   "execution_count": 460,
   "metadata": {},
   "outputs": [],
   "source": [
    "def find_seat(_input, range_length):\n",
    "    '''This solves the problem using a 'distance travelled' approach\n",
    "    to the problem. \n",
    "\n",
    "    We move the midpoint of every interval either towards 0 (-) or\n",
    "    the end of the range (+) based on the letter. The distance travelled\n",
    "    does not depend on the letter and is always an exponent of 2, since this\n",
    "    distanced is halved every turn.\n",
    "\n",
    "    We start at the midpoint of the range (start). Our initial distance \n",
    "    travelled is f (we start at half of the range, so 1st move is 1/2 that).\n",
    "\n",
    "    The end position is our starting position + the distance travelled.\n",
    "    '''\n",
    "\n",
    "    start = ((range_length - 1) / 2)\n",
    "    f = range_length / 4\n",
    "\n",
    "    signs = [1 if l in [\"B\", \"R\"] else -1 for l in _input]\n",
    "    weights = [f *(2**-i) for i, e in enumerate(signs)]\n",
    "\n",
    "    signs, weights = np.array(signs), np.array(weights)\n",
    "\n",
    "    vals = signs * weights\n",
    "\n",
    "    return start + sum(vals)\n",
    "\n",
    "def compute_seat_id(_input, row_length, col_length):\n",
    "    # Split String\n",
    "    row_instruc, col_instruc = _input[:-3], _input[-3:]\n",
    "\n",
    "    # Get Seat Number\n",
    "    row_val = find_seat(row_instruc, row_length)\n",
    "    col_val = find_seat(col_instruc, col_length)\n",
    "\n",
    "    return (row_val * 8) + col_val"
   ]
  },
  {
   "cell_type": "code",
   "execution_count": 467,
   "metadata": {},
   "outputs": [
    {
     "data": {
      "text/plain": [
       "820.0"
      ]
     },
     "execution_count": 467,
     "metadata": {},
     "output_type": "execute_result"
    }
   ],
   "source": [
    "test_inputs = ['FBFBBFFRLR', 'BFFFBBFRRR', 'FFFBBBFRRR', 'BBFFBBFRLL']\n",
    "\n",
    "compute_seat_id('BBFFBBFRLL', 128, 8)"
   ]
  },
  {
   "cell_type": "code",
   "execution_count": 470,
   "metadata": {},
   "outputs": [
    {
     "name": "stdout",
     "output_type": "stream",
     "text": [
      "PART 1\n"
     ]
    },
    {
     "data": {
      "text/plain": [
       "826.0"
      ]
     },
     "execution_count": 470,
     "metadata": {},
     "output_type": "execute_result"
    }
   ],
   "source": [
    "_input = open(\"aoc_5.txt\").read().splitlines()\n",
    "\n",
    "print(\"PART 1\")\n",
    "all_seat_ids = list(map(compute_seat_id, _input, [128 for i in _input], [8 for i in _input]))\n",
    "max(all_seat_ids)"
   ]
  },
  {
   "cell_type": "code",
   "execution_count": 473,
   "metadata": {},
   "outputs": [],
   "source": [
    "drop_seats = [s for s in all_seat_ids if s + 1 in all_seat_ids and s - 1 in all_seat_ids]"
   ]
  },
  {
   "cell_type": "code",
   "execution_count": 474,
   "metadata": {
    "collapsed": true
   },
   "outputs": [],
   "source": [
    "neighbor_candidates = [s for s in all_seat_ids if s not in drop_seats]"
   ]
  },
  {
   "cell_type": "code",
   "execution_count": 475,
   "metadata": {},
   "outputs": [
    {
     "data": {
      "text/plain": [
       "[677.0, 826.0, 70.0, 679.0]"
      ]
     },
     "execution_count": 475,
     "metadata": {},
     "output_type": "execute_result"
    }
   ],
   "source": [
    "neighbor_candidates"
   ]
  },
  {
   "cell_type": "code",
   "execution_count": null,
   "metadata": {
    "collapsed": true
   },
   "outputs": [],
   "source": []
  }
 ],
 "metadata": {
  "kernelspec": {
   "display_name": "Python 3",
   "language": "python",
   "name": "python3"
  },
  "language_info": {
   "codemirror_mode": {
    "name": "ipython",
    "version": 3
   },
   "file_extension": ".py",
   "mimetype": "text/x-python",
   "name": "python",
   "nbconvert_exporter": "python",
   "pygments_lexer": "ipython3",
   "version": "3.6.3"
  }
 },
 "nbformat": 4,
 "nbformat_minor": 2
}
